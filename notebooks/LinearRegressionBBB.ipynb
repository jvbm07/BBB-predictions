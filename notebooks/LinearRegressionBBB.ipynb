{
 "cells": [
  {
   "cell_type": "markdown",
   "id": "3517b5b9",
   "metadata": {},
   "source": [
    "## Importação de dados e bibliotecas"
   ]
  },
  {
   "cell_type": "code",
   "execution_count": 1,
   "id": "c307a363",
   "metadata": {},
   "outputs": [],
   "source": [
    "import numpy as np\n",
    "import pandas as pd\n",
    "import matplotlib.pyplot as plt\n",
    "import seaborn as sns\n",
    "%matplotlib inline\n",
    "\n",
    "df=pd.read_csv(\"../data/processed/participantes/participantesTotais.csv\")"
   ]
  },
  {
   "cell_type": "code",
   "execution_count": 2,
   "id": "e60bf2b3",
   "metadata": {},
   "outputs": [
    {
     "data": {
      "text/html": [
       "<div>\n",
       "<style scoped>\n",
       "    .dataframe tbody tr th:only-of-type {\n",
       "        vertical-align: middle;\n",
       "    }\n",
       "\n",
       "    .dataframe tbody tr th {\n",
       "        vertical-align: top;\n",
       "    }\n",
       "\n",
       "    .dataframe thead th {\n",
       "        text-align: right;\n",
       "    }\n",
       "</style>\n",
       "<table border=\"1\" class=\"dataframe\">\n",
       "  <thead>\n",
       "    <tr style=\"text-align: right;\">\n",
       "      <th></th>\n",
       "      <th>Participante</th>\n",
       "      <th>Data de nascimento</th>\n",
       "      <th>Ocupação</th>\n",
       "      <th>Origem</th>\n",
       "      <th>Posição</th>\n",
       "      <th>Signo</th>\n",
       "      <th>Estado</th>\n",
       "      <th>Região</th>\n",
       "      <th>Idade</th>\n",
       "      <th>Sexo</th>\n",
       "      <th>Sexualidade</th>\n",
       "    </tr>\n",
       "  </thead>\n",
       "  <tbody>\n",
       "    <tr>\n",
       "      <th>0</th>\n",
       "      <td>Kleber de Paula Pedra</td>\n",
       "      <td>14/02/1978</td>\n",
       "      <td>Dançarino</td>\n",
       "      <td>Campinas, São Paulo</td>\n",
       "      <td>1</td>\n",
       "      <td>aquario</td>\n",
       "      <td>São Paulo</td>\n",
       "      <td>Sudeste</td>\n",
       "      <td>23</td>\n",
       "      <td>0</td>\n",
       "      <td>0</td>\n",
       "    </tr>\n",
       "    <tr>\n",
       "      <th>1</th>\n",
       "      <td>Vanessa Melanie Pascale Ekypenyong Walborn</td>\n",
       "      <td>28/11/1974</td>\n",
       "      <td>Modelo</td>\n",
       "      <td>Rio de Janeiro, Rio de Janeiro</td>\n",
       "      <td>2</td>\n",
       "      <td>sagitario</td>\n",
       "      <td>Rio de Janeiro</td>\n",
       "      <td>Sudeste</td>\n",
       "      <td>27</td>\n",
       "      <td>1</td>\n",
       "      <td>0</td>\n",
       "    </tr>\n",
       "    <tr>\n",
       "      <th>2</th>\n",
       "      <td>André Batista de Carvalho</td>\n",
       "      <td>28/11/1974</td>\n",
       "      <td>Professor de canto</td>\n",
       "      <td>Rio de Janeiro, Rio de Janeiro</td>\n",
       "      <td>3</td>\n",
       "      <td>sagitario</td>\n",
       "      <td>Rio de Janeiro</td>\n",
       "      <td>Sudeste</td>\n",
       "      <td>27</td>\n",
       "      <td>0</td>\n",
       "      <td>1</td>\n",
       "    </tr>\n",
       "    <tr>\n",
       "      <th>3</th>\n",
       "      <td>Antonio Sergio Tavares Campo</td>\n",
       "      <td>06/12/1972</td>\n",
       "      <td>Cabeleireiro</td>\n",
       "      <td>Angola</td>\n",
       "      <td>4</td>\n",
       "      <td>sagitario</td>\n",
       "      <td>unknown</td>\n",
       "      <td>unknown</td>\n",
       "      <td>29</td>\n",
       "      <td>0</td>\n",
       "      <td>0</td>\n",
       "    </tr>\n",
       "    <tr>\n",
       "      <th>4</th>\n",
       "      <td>Alessandra Begliomini</td>\n",
       "      <td>05/12/1974</td>\n",
       "      <td>Empresária</td>\n",
       "      <td>São Paulo, São Paulo</td>\n",
       "      <td>5</td>\n",
       "      <td>sagitario</td>\n",
       "      <td>São Paulo</td>\n",
       "      <td>Sudeste</td>\n",
       "      <td>27</td>\n",
       "      <td>1</td>\n",
       "      <td>0</td>\n",
       "    </tr>\n",
       "  </tbody>\n",
       "</table>\n",
       "</div>"
      ],
      "text/plain": [
       "                                 Participante Data de nascimento  \\\n",
       "0                       Kleber de Paula Pedra         14/02/1978   \n",
       "1  Vanessa Melanie Pascale Ekypenyong Walborn         28/11/1974   \n",
       "2                   André Batista de Carvalho         28/11/1974   \n",
       "3                Antonio Sergio Tavares Campo         06/12/1972   \n",
       "4                       Alessandra Begliomini         05/12/1974   \n",
       "\n",
       "             Ocupação                          Origem  Posição      Signo  \\\n",
       "0           Dançarino             Campinas, São Paulo        1    aquario   \n",
       "1              Modelo  Rio de Janeiro, Rio de Janeiro        2  sagitario   \n",
       "2  Professor de canto  Rio de Janeiro, Rio de Janeiro        3  sagitario   \n",
       "3        Cabeleireiro                          Angola        4  sagitario   \n",
       "4          Empresária            São Paulo, São Paulo        5  sagitario   \n",
       "\n",
       "           Estado   Região  Idade  Sexo  Sexualidade  \n",
       "0       São Paulo  Sudeste     23     0            0  \n",
       "1  Rio de Janeiro  Sudeste     27     1            0  \n",
       "2  Rio de Janeiro  Sudeste     27     0            1  \n",
       "3         unknown  unknown     29     0            0  \n",
       "4       São Paulo  Sudeste     27     1            0  "
      ]
     },
     "execution_count": 2,
     "metadata": {},
     "output_type": "execute_result"
    }
   ],
   "source": [
    "df.head()"
   ]
  },
  {
   "cell_type": "markdown",
   "id": "4fe284d2",
   "metadata": {},
   "source": [
    "## Tratamento dos dados e análises"
   ]
  },
  {
   "cell_type": "code",
   "execution_count": 3,
   "id": "e51cc824",
   "metadata": {},
   "outputs": [
    {
     "data": {
      "text/plain": [
       "Participante          0\n",
       "Data de nascimento    0\n",
       "Ocupação              0\n",
       "Origem                0\n",
       "Posição               0\n",
       "Signo                 0\n",
       "Estado                0\n",
       "Região                0\n",
       "Idade                 0\n",
       "Sexo                  0\n",
       "Sexualidade           0\n",
       "dtype: int64"
      ]
     },
     "execution_count": 3,
     "metadata": {},
     "output_type": "execute_result"
    }
   ],
   "source": [
    "df.isna().sum(axis = 0)"
   ]
  },
  {
   "cell_type": "markdown",
   "id": "b6e3fa5d",
   "metadata": {},
   "source": [
    "### Quais regiões possuem mais participantes?"
   ]
  },
  {
   "cell_type": "code",
   "execution_count": 4,
   "id": "6ee8b3f0",
   "metadata": {},
   "outputs": [
    {
     "data": {
      "text/plain": [
       "<AxesSubplot:xlabel='Região', ylabel='Count'>"
      ]
     },
     "execution_count": 4,
     "metadata": {},
     "output_type": "execute_result"
    },
    {
     "data": {
      "image/png": "[encoded data removed]",
      "text/plain": [
       "<Figure size 432x288 with 1 Axes>"
      ]
     },
     "metadata": {
      "needs_background": "light"
     },
     "output_type": "display_data"
    }
   ],
   "source": [
    "sns.histplot(df['Região'])"
   ]
  },
  {
   "cell_type": "markdown",
   "id": "94854804",
   "metadata": {},
   "source": [
    "### Quais os signos mais comuns?"
   ]
  },
  {
   "cell_type": "code",
   "execution_count": 5,
   "id": "90d14a61",
   "metadata": {},
   "outputs": [
    {
     "data": {
      "text/plain": [
       "<AxesSubplot:xlabel='Signo', ylabel='Count'>"
      ]
     },
     "execution_count": 5,
     "metadata": {},
     "output_type": "execute_result"
    },
    {
     "data": {
      "image/png": "[encoded data removed]",
      "text/plain": [
       "<Figure size 432x288 with 1 Axes>"
      ]
     },
     "metadata": {
      "needs_background": "light"
     },
     "output_type": "display_data"
    }
   ],
   "source": [
    "sns.histplot(df['Signo'])"
   ]
  },
  {
   "cell_type": "code",
   "execution_count": 6,
   "id": "fdefa9f7",
   "metadata": {},
   "outputs": [
    {
     "data": {
      "text/plain": [
       "<AxesSubplot:xlabel='Ocupação', ylabel='Count'>"
      ]
     },
     "execution_count": 6,
     "metadata": {},
     "output_type": "execute_result"
    },
    {
     "data": {
      "image/png": "[encoded data removed]",
      "text/plain": [
       "<Figure size 432x288 with 1 Axes>"
      ]
     },
     "metadata": {
      "needs_background": "light"
     },
     "output_type": "display_data"
    }
   ],
   "source": [
    "sns.histplot(df['Ocupação'])"
   ]
  },
  {
   "cell_type": "code",
   "execution_count": 7,
   "id": "9e76133b",
   "metadata": {},
   "outputs": [
    {
     "data": {
      "text/plain": [
       "<AxesSubplot:>"
      ]
     },
     "execution_count": 7,
     "metadata": {},
     "output_type": "execute_result"
    },
    {
     "data": {
      "image/png": "[encoded data removed]",
      "text/plain": [
       "<Figure size 1800x1080 with 2 Axes>"
      ]
     },
     "metadata": {
      "needs_background": "light"
     },
     "output_type": "display_data"
    }
   ],
   "source": [
    "# Compute the correlation matrix\n",
    "corr = df.corr()\n",
    "\n",
    "# Generate a mask for the upper triangle\n",
    "mask = np.triu(np.ones_like(corr, dtype=bool))\n",
    "\n",
    "# Set up the matplotlib figure\n",
    "f, ax = plt.subplots(figsize=(25, 15))\n",
    "\n",
    "\n",
    "# Draw the heatmap with the mask and correct aspect ratio\n",
    "sns.heatmap(corr, mask=mask,annot = True)"
   ]
  },
  {
   "cell_type": "markdown",
   "id": "702723e1",
   "metadata": {},
   "source": [
    "### Ordinal e One-Hot Encoder para variáveis categóricas"
   ]
  },
  {
   "cell_type": "code",
   "execution_count": 8,
   "id": "5f976891",
   "metadata": {},
   "outputs": [],
   "source": [
    "ordinal_columns = ['Signo','Estado']\n",
    "one_hot_columns = ['Região']"
   ]
  },
  {
   "cell_type": "code",
   "execution_count": 9,
   "id": "884f06f3",
   "metadata": {},
   "outputs": [
    {
     "name": "stdout",
     "output_type": "stream",
     "text": [
      "                                 Participante Data de nascimento  \\\n",
      "0                       Kleber de Paula Pedra         14/02/1978   \n",
      "1  Vanessa Melanie Pascale Ekypenyong Walborn         28/11/1974   \n",
      "2                   André Batista de Carvalho         28/11/1974   \n",
      "3                Antonio Sergio Tavares Campo         06/12/1972   \n",
      "4                       Alessandra Begliomini         05/12/1974   \n",
      "\n",
      "             Ocupação                          Origem  Posição  Signo  Estado  \\\n",
      "0           Dançarino             Campinas, São Paulo        1    0.0    24.0   \n",
      "1              Modelo  Rio de Janeiro, Rio de Janeiro        2    9.0    20.0   \n",
      "2  Professor de canto  Rio de Janeiro, Rio de Janeiro        3    9.0    20.0   \n",
      "3        Cabeleireiro                          Angola        4    9.0    25.0   \n",
      "4          Empresária            São Paulo, São Paulo        5    9.0    24.0   \n",
      "\n",
      "    Região  Idade  Sexo  Sexualidade  \n",
      "0  Sudeste     23     0            0  \n",
      "1  Sudeste     27     1            0  \n",
      "2  Sudeste     27     0            1  \n",
      "3  unknown     29     0            0  \n",
      "4  Sudeste     27     1            0  \n"
     ]
    }
   ],
   "source": [
    "from sklearn.preprocessing import OrdinalEncoder\n",
    "ordinal_encoder = OrdinalEncoder()\n",
    "df[ordinal_columns] = ordinal_encoder.fit_transform(df[ordinal_columns])\n",
    "print(df.head())"
   ]
  },
  {
   "cell_type": "code",
   "execution_count": 10,
   "id": "94ad9452",
   "metadata": {},
   "outputs": [
    {
     "name": "stdout",
     "output_type": "stream",
     "text": [
      "                                 Participante Data de nascimento  \\\n",
      "0                       Kleber de Paula Pedra         14/02/1978   \n",
      "1  Vanessa Melanie Pascale Ekypenyong Walborn         28/11/1974   \n",
      "2                   André Batista de Carvalho         28/11/1974   \n",
      "3                Antonio Sergio Tavares Campo         06/12/1972   \n",
      "4                       Alessandra Begliomini         05/12/1974   \n",
      "\n",
      "             Ocupação                          Origem  Posição  Signo  Estado  \\\n",
      "0           Dançarino             Campinas, São Paulo        1    0.0    24.0   \n",
      "1              Modelo  Rio de Janeiro, Rio de Janeiro        2    9.0    20.0   \n",
      "2  Professor de canto  Rio de Janeiro, Rio de Janeiro        3    9.0    20.0   \n",
      "3        Cabeleireiro                          Angola        4    9.0    25.0   \n",
      "4          Empresária            São Paulo, São Paulo        5    9.0    24.0   \n",
      "\n",
      "    Região  Idade  Sexo  Sexualidade    0    1    2    3    4    5  \n",
      "0  Sudeste     23     0            0  0.0  0.0  0.0  1.0  0.0  0.0  \n",
      "1  Sudeste     27     1            0  0.0  0.0  0.0  1.0  0.0  0.0  \n",
      "2  Sudeste     27     0            1  0.0  0.0  0.0  1.0  0.0  0.0  \n",
      "3  unknown     29     0            0  0.0  0.0  0.0  0.0  0.0  1.0  \n",
      "4  Sudeste     27     1            0  0.0  0.0  0.0  1.0  0.0  0.0  \n"
     ]
    }
   ],
   "source": [
    "from sklearn.preprocessing import OneHotEncoder\n",
    "one_hot_encoder = OneHotEncoder(handle_unknown='ignore', sparse= False)\n",
    "oh_cols = pd.DataFrame(one_hot_encoder.fit_transform(df[one_hot_columns]))\n",
    "df = pd.concat([df, oh_cols], axis = 1)\n",
    "print(df.head())"
   ]
  },
  {
   "cell_type": "markdown",
   "id": "174d79bd",
   "metadata": {},
   "source": [
    "### Remover o restante das variáveis categóricas"
   ]
  },
  {
   "cell_type": "code",
   "execution_count": 11,
   "id": "fcf449b3",
   "metadata": {},
   "outputs": [],
   "source": [
    "df.drop(['Participante','Data de nascimento','Ocupação','Origem','Região'],axis=1, inplace = True)"
   ]
  },
  {
   "cell_type": "code",
   "execution_count": 12,
   "id": "df1df15f",
   "metadata": {},
   "outputs": [
    {
     "data": {
      "text/html": [
       "<div>\n",
       "<style scoped>\n",
       "    .dataframe tbody tr th:only-of-type {\n",
       "        vertical-align: middle;\n",
       "    }\n",
       "\n",
       "    .dataframe tbody tr th {\n",
       "        vertical-align: top;\n",
       "    }\n",
       "\n",
       "    .dataframe thead th {\n",
       "        text-align: right;\n",
       "    }\n",
       "</style>\n",
       "<table border=\"1\" class=\"dataframe\">\n",
       "  <thead>\n",
       "    <tr style=\"text-align: right;\">\n",
       "      <th></th>\n",
       "      <th>Posição</th>\n",
       "      <th>Signo</th>\n",
       "      <th>Estado</th>\n",
       "      <th>Idade</th>\n",
       "      <th>Sexo</th>\n",
       "      <th>Sexualidade</th>\n",
       "      <th>0</th>\n",
       "      <th>1</th>\n",
       "      <th>2</th>\n",
       "      <th>3</th>\n",
       "      <th>4</th>\n",
       "      <th>5</th>\n",
       "    </tr>\n",
       "  </thead>\n",
       "  <tbody>\n",
       "    <tr>\n",
       "      <th>0</th>\n",
       "      <td>1</td>\n",
       "      <td>0.0</td>\n",
       "      <td>24.0</td>\n",
       "      <td>23</td>\n",
       "      <td>0</td>\n",
       "      <td>0</td>\n",
       "      <td>0.0</td>\n",
       "      <td>0.0</td>\n",
       "      <td>0.0</td>\n",
       "      <td>1.0</td>\n",
       "      <td>0.0</td>\n",
       "      <td>0.0</td>\n",
       "    </tr>\n",
       "    <tr>\n",
       "      <th>1</th>\n",
       "      <td>2</td>\n",
       "      <td>9.0</td>\n",
       "      <td>20.0</td>\n",
       "      <td>27</td>\n",
       "      <td>1</td>\n",
       "      <td>0</td>\n",
       "      <td>0.0</td>\n",
       "      <td>0.0</td>\n",
       "      <td>0.0</td>\n",
       "      <td>1.0</td>\n",
       "      <td>0.0</td>\n",
       "      <td>0.0</td>\n",
       "    </tr>\n",
       "    <tr>\n",
       "      <th>2</th>\n",
       "      <td>3</td>\n",
       "      <td>9.0</td>\n",
       "      <td>20.0</td>\n",
       "      <td>27</td>\n",
       "      <td>0</td>\n",
       "      <td>1</td>\n",
       "      <td>0.0</td>\n",
       "      <td>0.0</td>\n",
       "      <td>0.0</td>\n",
       "      <td>1.0</td>\n",
       "      <td>0.0</td>\n",
       "      <td>0.0</td>\n",
       "    </tr>\n",
       "    <tr>\n",
       "      <th>3</th>\n",
       "      <td>4</td>\n",
       "      <td>9.0</td>\n",
       "      <td>25.0</td>\n",
       "      <td>29</td>\n",
       "      <td>0</td>\n",
       "      <td>0</td>\n",
       "      <td>0.0</td>\n",
       "      <td>0.0</td>\n",
       "      <td>0.0</td>\n",
       "      <td>0.0</td>\n",
       "      <td>0.0</td>\n",
       "      <td>1.0</td>\n",
       "    </tr>\n",
       "    <tr>\n",
       "      <th>4</th>\n",
       "      <td>5</td>\n",
       "      <td>9.0</td>\n",
       "      <td>24.0</td>\n",
       "      <td>27</td>\n",
       "      <td>1</td>\n",
       "      <td>0</td>\n",
       "      <td>0.0</td>\n",
       "      <td>0.0</td>\n",
       "      <td>0.0</td>\n",
       "      <td>1.0</td>\n",
       "      <td>0.0</td>\n",
       "      <td>0.0</td>\n",
       "    </tr>\n",
       "    <tr>\n",
       "      <th>...</th>\n",
       "      <td>...</td>\n",
       "      <td>...</td>\n",
       "      <td>...</td>\n",
       "      <td>...</td>\n",
       "      <td>...</td>\n",
       "      <td>...</td>\n",
       "      <td>...</td>\n",
       "      <td>...</td>\n",
       "      <td>...</td>\n",
       "      <td>...</td>\n",
       "      <td>...</td>\n",
       "      <td>...</td>\n",
       "    </tr>\n",
       "    <tr>\n",
       "      <th>335</th>\n",
       "      <td>16</td>\n",
       "      <td>3.0</td>\n",
       "      <td>13.0</td>\n",
       "      <td>35</td>\n",
       "      <td>1</td>\n",
       "      <td>1</td>\n",
       "      <td>0.0</td>\n",
       "      <td>0.0</td>\n",
       "      <td>0.0</td>\n",
       "      <td>0.0</td>\n",
       "      <td>1.0</td>\n",
       "      <td>0.0</td>\n",
       "    </tr>\n",
       "    <tr>\n",
       "      <th>336</th>\n",
       "      <td>17</td>\n",
       "      <td>5.0</td>\n",
       "      <td>19.0</td>\n",
       "      <td>27</td>\n",
       "      <td>0</td>\n",
       "      <td>0</td>\n",
       "      <td>0.0</td>\n",
       "      <td>0.0</td>\n",
       "      <td>0.0</td>\n",
       "      <td>0.0</td>\n",
       "      <td>1.0</td>\n",
       "      <td>0.0</td>\n",
       "    </tr>\n",
       "    <tr>\n",
       "      <th>337</th>\n",
       "      <td>18</td>\n",
       "      <td>9.0</td>\n",
       "      <td>8.0</td>\n",
       "      <td>30</td>\n",
       "      <td>0</td>\n",
       "      <td>0</td>\n",
       "      <td>0.0</td>\n",
       "      <td>0.0</td>\n",
       "      <td>0.0</td>\n",
       "      <td>1.0</td>\n",
       "      <td>0.0</td>\n",
       "      <td>0.0</td>\n",
       "    </tr>\n",
       "    <tr>\n",
       "      <th>338</th>\n",
       "      <td>19</td>\n",
       "      <td>9.0</td>\n",
       "      <td>24.0</td>\n",
       "      <td>25</td>\n",
       "      <td>0</td>\n",
       "      <td>0</td>\n",
       "      <td>0.0</td>\n",
       "      <td>0.0</td>\n",
       "      <td>0.0</td>\n",
       "      <td>1.0</td>\n",
       "      <td>0.0</td>\n",
       "      <td>0.0</td>\n",
       "    </tr>\n",
       "    <tr>\n",
       "      <th>339</th>\n",
       "      <td>20</td>\n",
       "      <td>10.0</td>\n",
       "      <td>6.0</td>\n",
       "      <td>29</td>\n",
       "      <td>1</td>\n",
       "      <td>0</td>\n",
       "      <td>0.0</td>\n",
       "      <td>1.0</td>\n",
       "      <td>0.0</td>\n",
       "      <td>0.0</td>\n",
       "      <td>0.0</td>\n",
       "      <td>0.0</td>\n",
       "    </tr>\n",
       "  </tbody>\n",
       "</table>\n",
       "<p>340 rows × 12 columns</p>\n",
       "</div>"
      ],
      "text/plain": [
       "     Posição  Signo  Estado  Idade  Sexo  Sexualidade    0    1    2    3  \\\n",
       "0          1    0.0    24.0     23     0            0  0.0  0.0  0.0  1.0   \n",
       "1          2    9.0    20.0     27     1            0  0.0  0.0  0.0  1.0   \n",
       "2          3    9.0    20.0     27     0            1  0.0  0.0  0.0  1.0   \n",
       "3          4    9.0    25.0     29     0            0  0.0  0.0  0.0  0.0   \n",
       "4          5    9.0    24.0     27     1            0  0.0  0.0  0.0  1.0   \n",
       "..       ...    ...     ...    ...   ...          ...  ...  ...  ...  ...   \n",
       "335       16    3.0    13.0     35     1            1  0.0  0.0  0.0  0.0   \n",
       "336       17    5.0    19.0     27     0            0  0.0  0.0  0.0  0.0   \n",
       "337       18    9.0     8.0     30     0            0  0.0  0.0  0.0  1.0   \n",
       "338       19    9.0    24.0     25     0            0  0.0  0.0  0.0  1.0   \n",
       "339       20   10.0     6.0     29     1            0  0.0  1.0  0.0  0.0   \n",
       "\n",
       "       4    5  \n",
       "0    0.0  0.0  \n",
       "1    0.0  0.0  \n",
       "2    0.0  0.0  \n",
       "3    0.0  1.0  \n",
       "4    0.0  0.0  \n",
       "..   ...  ...  \n",
       "335  1.0  0.0  \n",
       "336  1.0  0.0  \n",
       "337  0.0  0.0  \n",
       "338  0.0  0.0  \n",
       "339  0.0  0.0  \n",
       "\n",
       "[340 rows x 12 columns]"
      ]
     },
     "execution_count": 12,
     "metadata": {},
     "output_type": "execute_result"
    }
   ],
   "source": [
    "df"
   ]
  },
  {
   "cell_type": "code",
   "execution_count": 13,
   "id": "69a6ad24",
   "metadata": {},
   "outputs": [
    {
     "name": "stdout",
     "output_type": "stream",
     "text": [
      "     Signo  Estado  Idade  Sexo  Sexualidade    0    1    2    3    4    5\n",
      "0      0.0    24.0     23     0            0  0.0  0.0  0.0  1.0  0.0  0.0\n",
      "1      9.0    20.0     27     1            0  0.0  0.0  0.0  1.0  0.0  0.0\n",
      "2      9.0    20.0     27     0            1  0.0  0.0  0.0  1.0  0.0  0.0\n",
      "3      9.0    25.0     29     0            0  0.0  0.0  0.0  0.0  0.0  1.0\n",
      "4      9.0    24.0     27     1            0  0.0  0.0  0.0  1.0  0.0  0.0\n",
      "..     ...     ...    ...   ...          ...  ...  ...  ...  ...  ...  ...\n",
      "335    3.0    13.0     35     1            1  0.0  0.0  0.0  0.0  1.0  0.0\n",
      "336    5.0    19.0     27     0            0  0.0  0.0  0.0  0.0  1.0  0.0\n",
      "337    9.0     8.0     30     0            0  0.0  0.0  0.0  1.0  0.0  0.0\n",
      "338    9.0    24.0     25     0            0  0.0  0.0  0.0  1.0  0.0  0.0\n",
      "339   10.0     6.0     29     1            0  0.0  1.0  0.0  0.0  0.0  0.0\n",
      "\n",
      "[340 rows x 11 columns]\n",
      "0       1\n",
      "1       2\n",
      "2       3\n",
      "3       4\n",
      "4       5\n",
      "       ..\n",
      "335    16\n",
      "336    17\n",
      "337    18\n",
      "338    19\n",
      "339    20\n",
      "Name: Posição, Length: 340, dtype: int64\n"
     ]
    }
   ],
   "source": [
    "X = df.drop(['Posição'],axis = 1)\n",
    "y = df['Posição']\n",
    "print(X)\n",
    "print(y)"
   ]
  },
  {
   "cell_type": "code",
   "execution_count": 14,
   "id": "764c645a",
   "metadata": {},
   "outputs": [
    {
     "data": {
      "text/plain": [
       "27    35\n",
       "28    34\n",
       "26    33\n",
       "25    25\n",
       "29    21\n",
       "24    20\n",
       "23    19\n",
       "30    17\n",
       "31    17\n",
       "22    16\n",
       "32    13\n",
       "33    11\n",
       "35    10\n",
       "21     9\n",
       "41     8\n",
       "36     8\n",
       "34     7\n",
       "20     5\n",
       "38     5\n",
       "39     4\n",
       "40     3\n",
       "19     3\n",
       "37     3\n",
       "47     2\n",
       "54     2\n",
       "64     2\n",
       "42     1\n",
       "44     1\n",
       "51     1\n",
       "53     1\n",
       "57     1\n",
       "62     1\n",
       "65     1\n",
       "71     1\n",
       "Name: Idade, dtype: int64"
      ]
     },
     "execution_count": 14,
     "metadata": {},
     "output_type": "execute_result"
    }
   ],
   "source": [
    "X['Idade'].value_counts()"
   ]
  },
  {
   "cell_type": "code",
   "execution_count": null,
   "id": "780bfb0c",
   "metadata": {},
   "outputs": [],
   "source": []
  },
  {
   "cell_type": "code",
   "execution_count": null,
   "id": "25ffe376",
   "metadata": {},
   "outputs": [],
   "source": []
  },
  {
   "cell_type": "markdown",
   "id": "7a113df1",
   "metadata": {},
   "source": [
    "## Aplicando a regressão Linear"
   ]
  },
  {
   "cell_type": "code",
   "execution_count": 17,
   "id": "ac622e2f",
   "metadata": {},
   "outputs": [],
   "source": [
    "from sklearn.linear_model import SGDRegressor"
   ]
  },
  {
   "cell_type": "code",
   "execution_count": 16,
   "id": "c3785298",
   "metadata": {},
   "outputs": [
    {
     "data": {
      "text/plain": [
       "array([[-1.52323841,  1.05117147, -0.8565932 , ...,  0.87273022,\n",
       "        -0.45351269, -0.09435082],\n",
       "       [ 0.9976429 ,  0.44464063, -0.31625612, ...,  0.87273022,\n",
       "        -0.45351269, -0.09435082],\n",
       "       [ 0.9976429 ,  0.44464063, -0.31625612, ...,  0.87273022,\n",
       "        -0.45351269, -0.09435082],\n",
       "       ...,\n",
       "       [ 0.9976429 , -1.37495191,  0.0889967 , ...,  0.87273022,\n",
       "        -0.45351269, -0.09435082],\n",
       "       [ 0.9976429 ,  1.05117147, -0.58642466, ...,  0.87273022,\n",
       "        -0.45351269, -0.09435082],\n",
       "       [ 1.27774082, -1.67821733, -0.04608757, ..., -1.14582947,\n",
       "        -0.45351269, -0.09435082]])"
      ]
     },
     "execution_count": 16,
     "metadata": {},
     "output_type": "execute_result"
    }
   ],
   "source": [
    "from sklearn.preprocessing import StandardScaler\n",
    "sc_x = StandardScaler()\n",
    "X = sc_x.fit_transform(X)\n",
    "X"
   ]
  },
  {
   "cell_type": "code",
   "execution_count": 18,
   "id": "ef3fb380",
   "metadata": {},
   "outputs": [
    {
     "data": {
      "text/plain": [
       "SGDRegressor()"
      ]
     },
     "execution_count": 18,
     "metadata": {},
     "output_type": "execute_result"
    }
   ],
   "source": [
    "mod = SGDRegressor()\n",
    "mod.fit(X, y)"
   ]
  },
  {
   "cell_type": "code",
   "execution_count": null,
   "id": "de095d54",
   "metadata": {},
   "outputs": [],
   "source": []
  }
 ],
 "metadata": {
  "kernelspec": {
   "display_name": "Python 3",
   "language": "python",
   "name": "python3"
  },
  "language_info": {
   "codemirror_mode": {
    "name": "ipython",
    "version": 3
   },
   "file_extension": ".py",
   "mimetype": "text/x-python",
   "name": "python",
   "nbconvert_exporter": "python",
   "pygments_lexer": "ipython3",
   "version": "3.8.8"
  },
  "toc": {
   "base_numbering": 1,
   "nav_menu": {},
   "number_sections": false,
   "sideBar": false,
   "skip_h1_title": false,
   "title_cell": "Table of Contents",
   "title_sidebar": "Contents",
   "toc_cell": false,
   "toc_position": {},
   "toc_section_display": false,
   "toc_window_display": false
  }
 },
 "nbformat": 4,
 "nbformat_minor": 5
}
